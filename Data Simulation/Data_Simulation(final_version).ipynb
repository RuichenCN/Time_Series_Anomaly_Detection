{
  "nbformat": 4,
  "nbformat_minor": 0,
  "metadata": {
    "colab": {
      "provenance": []
    },
    "kernelspec": {
      "name": "python3",
      "display_name": "Python 3"
    },
    "language_info": {
      "name": "python"
    }
  },
  "cells": [
    {
      "cell_type": "code",
      "execution_count": 1,
      "metadata": {
        "id": "aop6D1HCfEpt"
      },
      "outputs": [],
      "source": [
        "# Import common libraries\n",
        "import numpy as np\n",
        "import pandas as pd\n",
        "import matplotlib.pyplot as plt"
      ]
    },
    {
      "cell_type": "code",
      "source": [
        "# Set random seed for reproducibility\n",
        "np.random.seed(42)\n",
        "\n",
        "# Generate time series data for two weeks\n",
        "total_hours = 2016  # 2 weeks * 7 days * 24 hours\n",
        "time = np.arange(0, total_hours, 0.1)\n",
        "\n",
        "# Initialize an empty array for periodic data\n",
        "periodic_data = np.zeros_like(time)\n",
        "\n",
        "# Function to generate data based on time intervals\n",
        "def generate_data(time, start_time, interval_1, interval_2):\n",
        "    condition1 = (time >= start_time) & (time < start_time + interval_1)\n",
        "    condition2 = (time >= start_time + interval_1) & (time < start_time + interval_1 + interval_2)\n",
        "    periodic_data[condition1] = 10 * np.sin(2 * np.pi * (time[condition1] - start_time) / 144 + np.pi * 1.5) + np.random.normal(0, 0.5, len(time[condition1])) + 11\n",
        "    periodic_data[condition2] = 2 * np.sin(2 * np.pi * (time[condition2] - start_time) / 144 + np.pi * 1.5) + np.random.normal(0, 0.5, len(time[condition2])) + 2.2\n",
        "\n",
        "# Generate data for each week\n",
        "for week in range(2):\n",
        "    start_time = week * 1008\n",
        "    generate_data(time, start_time, 720, 288)"
      ],
      "metadata": {
        "id": "IVzfiXuBfNZ-"
      },
      "execution_count": null,
      "outputs": []
    },
    {
      "cell_type": "code",
      "source": [
        "# Insert anomalies\n",
        "num_anomalies = 20\n",
        "anomalies_indices = np.random.choice(len(time), num_anomalies, replace=False)\n",
        "anomalies_deviation = np.random.uniform(low=3, high=5, size=num_anomalies)\n",
        "\n",
        "# Insert anomalies into the time series\n",
        "periodic_data_with_anomalies = periodic_data.copy()\n",
        "periodic_data_with_anomalies[anomalies_indices] += anomalies_deviation\n",
        "\n",
        "# Create a DataFrame to hold the time series data\n",
        "df = pd.DataFrame({'time': time, 'value': periodic_data_with_anomalies})\n",
        "\n",
        "# Display the DataFrame\n",
        "display(df)"
      ],
      "metadata": {
        "id": "MOmRoQ8Bh22q"
      },
      "execution_count": null,
      "outputs": []
    },
    {
      "cell_type": "code",
      "source": [
        "# Data visualization\n",
        "plt.figure(figsize=(20, 5))\n",
        "plt.plot(df['time'], df['value'], label='Network Traffic')\n",
        "plt.scatter(df['time'].iloc[anomalies_indices], periodic_data_with_anomalies[anomalies_indices], color='red', label='Anomalies')\n",
        "plt.legend()\n",
        "plt.xlabel('Time')\n",
        "plt.ylabel('Volume')\n",
        "plt.title('Network Traffic with Anomalies in Two Weeks')\n",
        "\n",
        "# Set x-axis ticks and labels to Monday to Sunday for each week\n",
        "plt.xticks(ticks=np.linspace(0, 2016, 15), labels=['Mon', 'Tue', 'Wed', 'Thu', 'Fri', 'Sat', 'Sun', 'Mon', 'Tue', 'Wed', 'Thu', 'Fri', 'Sat', 'Sun', 'Mon'])\n",
        "\n",
        "plt.show()"
      ],
      "metadata": {
        "id": "sJJzGfY_h3Kn"
      },
      "execution_count": null,
      "outputs": []
    },
    {
      "cell_type": "code",
      "source": [
        "# Save data\n",
        "df.to_csv('time_series_with_anomalies.csv', index=False)"
      ],
      "metadata": {
        "id": "hf8koNCQiA0Z"
      },
      "execution_count": null,
      "outputs": []
    }
  ]
}